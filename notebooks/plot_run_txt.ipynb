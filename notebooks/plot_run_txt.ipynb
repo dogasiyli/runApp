{
 "cells": [
  {
   "cell_type": "code",
   "execution_count": 1,
   "id": "bda602fe",
   "metadata": {},
   "outputs": [],
   "source": [
    "%load_ext autoreload\n",
    "%autoreload 2"
   ]
  },
  {
   "cell_type": "code",
   "execution_count": 22,
   "id": "e90abb35",
   "metadata": {},
   "outputs": [],
   "source": [
    "import json\n",
    "import matplotlib.pyplot as plt\n",
    "import numpy as np\n",
    "\n",
    "def plot_data(full_path_to_txt):\n",
    "    # Read data from the text file\n",
    "    with open(full_path_to_txt, 'r') as file:\n",
    "        data = json.load(file)\n",
    "    data = data[1:]\n",
    "    \n",
    "    # Extract latitude, longitude, and accuracy from the data\n",
    "    latitudes = np.asarray([entry['coords']['latitude'] for entry in data])\n",
    "    longitudes = np.asarray([entry['coords']['longitude'] for entry in data])\n",
    "    accuracies = np.asarray([entry['coords']['accuracy'] for entry in data])\n",
    "\n",
    "    # Create the figure and axes\n",
    "    fig, ax = plt.subplots()\n",
    "\n",
    "    print(\"accuracies:\",accuracies)\n",
    "    print(\"longitudes:\",np.shape(longitudes))\n",
    "    print(\"latitudes:\",np.shape(latitudes))\n",
    "    print(\"accuracies:\",np.shape(accuracies))\n",
    "    s = 2*accuracies\n",
    "    print(\"s:\",np.shape(s))\n",
    "    # Plot the GPS locations as scatter markers\n",
    "    scatter = ax.scatter(longitudes, latitudes, c=accuracies, cmap='viridis', s=s)\n",
    "\n",
    "    # Add a colorbar to show the accuracy scale\n",
    "    cbar = plt.colorbar(scatter, ax=ax)\n",
    "    cbar.set_label('Accuracy')\n",
    "\n",
    "    # Set the grid limits based on the minimum and maximum coordinates\n",
    "    ax.set_xlim(min(longitudes), max(longitudes))\n",
    "    ax.set_ylim(min(latitudes), max(latitudes))\n",
    "\n",
    "    # Set labels and title\n",
    "    ax.set_xlabel('Longitude')\n",
    "    ax.set_ylabel('Latitude')\n",
    "    ax.set_title('GPS Locations')\n",
    "\n",
    "    # Show the plot\n",
    "    plt.show()"
   ]
  },
  {
   "cell_type": "code",
   "execution_count": 23,
   "id": "9b71efd6",
   "metadata": {},
   "outputs": [
    {
     "name": "stdout",
     "output_type": "stream",
     "text": [
      "accuracies: [36.90000153 36.90000153 45.59999847 24.89999962 22.45000076 20.\n",
      " 24.04999924 15.43900013 17.71899986 16.85000038 19.52799988 36.67699814\n",
      " 28.45100021 24.33799934 21.87100029 22.80599976 20.33799934 13.67199993\n",
      " 13.00500011 12.3380003  11.67199993 11.98799992  8.98099995  8.98099995\n",
      "  8.98099995  8.98099995  8.84000015  8.9630003   8.12199974  7.83599997\n",
      "  7.55100012  7.47599983  7.55100012  8.0710001   7.73699999  7.48899984\n",
      "  7.48899984  7.48899984  7.48899984  7.74700022  7.11499977  7.47599983\n",
      "  7.97599983]\n",
      "longitudes: (43,)\n",
      "latitudes: (43,)\n",
      "accuracies: (43,)\n",
      "s: (43,)\n"
     ]
    },
    {
     "data": {
      "image/png": "[encoded data removed]",
      "text/plain": [
       "<Figure size 432x288 with 2 Axes>"
      ]
     },
     "metadata": {
      "needs_background": "light"
     },
     "output_type": "display_data"
    }
   ],
   "source": [
    "plot_data(\"/home/doga/Downloads/runPositions_20230523_014523.txt\")"
   ]
  },
  {
   "cell_type": "code",
   "execution_count": null,
   "id": "5872431f",
   "metadata": {},
   "outputs": [],
   "source": []
  }
 ],
 "metadata": {
  "kernelspec": {
   "display_name": "objectLocalization",
   "language": "python",
   "name": "objectlocalization"
  },
  "language_info": {
   "codemirror_mode": {
    "name": "ipython",
    "version": 3
   },
   "file_extension": ".py",
   "mimetype": "text/x-python",
   "name": "python",
   "nbconvert_exporter": "python",
   "pygments_lexer": "ipython3",
   "version": "3.7.11"
  }
 },
 "nbformat": 4,
 "nbformat_minor": 5
}
